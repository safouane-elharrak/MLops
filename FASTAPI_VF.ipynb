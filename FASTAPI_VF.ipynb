{
 "cells": [
  {
   "cell_type": "code",
   "execution_count": 1,
   "id": "b3b4800e",
   "metadata": {},
   "outputs": [
    {
     "name": "stdout",
     "output_type": "stream",
     "text": [
      "Requirement already satisfied: FastAPI in c:\\users\\safouane elh\\anaconda3\\lib\\site-packages (0.87.0)\n",
      "Requirement already satisfied: pydantic!=1.7,!=1.7.1,!=1.7.2,!=1.7.3,!=1.8,!=1.8.1,<2.0.0,>=1.6.2 in c:\\users\\safouane elh\\anaconda3\\lib\\site-packages (from FastAPI) (1.10.2)\n",
      "Requirement already satisfied: starlette==0.21.0 in c:\\users\\safouane elh\\anaconda3\\lib\\site-packages (from FastAPI) (0.21.0)\n",
      "Requirement already satisfied: typing-extensions>=3.10.0 in c:\\users\\safouane elh\\anaconda3\\lib\\site-packages (from starlette==0.21.0->FastAPI) (4.1.1)\n",
      "Requirement already satisfied: anyio<5,>=3.4.0 in c:\\users\\safouane elh\\anaconda3\\lib\\site-packages (from starlette==0.21.0->FastAPI) (3.5.0)\n",
      "Requirement already satisfied: sniffio>=1.1 in c:\\users\\safouane elh\\anaconda3\\lib\\site-packages (from anyio<5,>=3.4.0->starlette==0.21.0->FastAPI) (1.2.0)\n",
      "Requirement already satisfied: idna>=2.8 in c:\\users\\safouane elh\\anaconda3\\lib\\site-packages (from anyio<5,>=3.4.0->starlette==0.21.0->FastAPI) (3.3)\n"
     ]
    },
    {
     "name": "stderr",
     "output_type": "stream",
     "text": [
      "WARNING: Ignoring invalid distribution -illow (c:\\users\\safouane elh\\anaconda3\\lib\\site-packages)\n",
      "WARNING: Ignoring invalid distribution -illow (c:\\users\\safouane elh\\anaconda3\\lib\\site-packages)\n",
      "WARNING: Ignoring invalid distribution -illow (c:\\users\\safouane elh\\anaconda3\\lib\\site-packages)\n",
      "WARNING: Ignoring invalid distribution -illow (c:\\users\\safouane elh\\anaconda3\\lib\\site-packages)\n",
      "WARNING: Ignoring invalid distribution -illow (c:\\users\\safouane elh\\anaconda3\\lib\\site-packages)\n",
      "WARNING: Ignoring invalid distribution -illow (c:\\users\\safouane elh\\anaconda3\\lib\\site-packages)\n"
     ]
    }
   ],
   "source": [
    "!pip install FastAPI"
   ]
  },
  {
   "cell_type": "code",
   "execution_count": 3,
   "id": "09082285",
   "metadata": {},
   "outputs": [],
   "source": [
    "from fastapi import FastAPI\n",
    "# import pickle\n",
    "import uvicorn\n",
    "import asyncio\n",
    "import numpy as np \n",
    "import pandas as pd\n",
    "from tensorflow import keras"
   ]
  },
  {
   "cell_type": "code",
   "execution_count": 4,
   "id": "4812d862",
   "metadata": {},
   "outputs": [],
   "source": [
    "df_test = pd.read_csv('C:/Users/Safouane Elh/Documents/MBD S3/Deep Learning/MLOPS/test.csv')\n"
   ]
  },
  {
   "cell_type": "code",
   "execution_count": 5,
   "id": "2c7b9952",
   "metadata": {},
   "outputs": [],
   "source": [
    "app = FastAPI(debug=True)\n",
    "@app.get('/')\n",
    "def home():\n",
    "  return {'text':'welcome home'}\n"
   ]
  },
  {
   "cell_type": "code",
   "execution_count": 6,
   "id": "6b100e05",
   "metadata": {},
   "outputs": [],
   "source": [
    "@app.get('/predict')\n",
    "async def predict(Id:int):\n",
    "      loaded_model = keras.models.load_model('C:/Users/Safouane Elh/Documents/MBD S3/Deep Learning/MLOPS/LSTM_model.h5')\n",
    "  # creating submission file \n",
    "      xtest = np.load('C:/Users/Safouane Elh/Documents/MBD S3/Deep Learning/MLOPS/parrot.npy')\n",
    "      submission_file = loaded_model.predict(xtest)\n",
    "  # we will keep every value between 0 and 20\n",
    "      submission_file = submission_file.clip(0,20)\n",
    "  # creating dataframe with required columns \n",
    "      submission_trp = pd.DataFrame({'ID':df_test['ID'],'item_cnt_month':submission_file.ravel()})\n",
    "      val = submission_trp['item_cnt_month'].values[Id]\n",
    "      val = float(val)\n",
    "     # Return val as a dictionary\n",
    "      return {'number of products sold':val} "
   ]
  },
  {
   "cell_type": "code",
   "execution_count": 7,
   "id": "9452691a",
   "metadata": {},
   "outputs": [
    {
     "name": "stderr",
     "output_type": "stream",
     "text": [
      "INFO:     Started server process [14984]\n",
      "INFO:     Waiting for application startup.\n",
      "INFO:     Application startup complete.\n",
      "INFO:     Uvicorn running on http://127.0.0.1:8000 (Press CTRL+C to quit)\n"
     ]
    },
    {
     "name": "stdout",
     "output_type": "stream",
     "text": [
      "INFO:     127.0.0.1:63688 - \"GET / HTTP/1.1\" 200 OK\n",
      "INFO:     127.0.0.1:63688 - \"GET /docs HTTP/1.1\" 200 OK\n",
      "INFO:     127.0.0.1:63688 - \"GET /openapi.json HTTP/1.1\" 200 OK\n",
      "6694/6694 [==============================] - 117s 17ms/step\n",
      "INFO:     127.0.0.1:63687 - \"GET /predict?Id=5 HTTP/1.1\" 200 OK\n"
     ]
    },
    {
     "name": "stderr",
     "output_type": "stream",
     "text": [
      "INFO:     Shutting down\n",
      "INFO:     Waiting for application shutdown.\n",
      "INFO:     Application shutdown complete.\n",
      "INFO:     Finished server process [14984]\n"
     ]
    }
   ],
   "source": [
    "import nest_asyncio\n",
    "\n",
    "if __name__ == \"__main__\":\n",
    "    nest_asyncio.apply()\n",
    "    uvicorn.run(app)"
   ]
  },
  {
   "cell_type": "code",
   "execution_count": null,
   "id": "26f64a79",
   "metadata": {},
   "outputs": [],
   "source": []
  }
 ],
 "metadata": {
  "kernelspec": {
   "display_name": "Python 3 (ipykernel)",
   "language": "python",
   "name": "python3"
  },
  "language_info": {
   "codemirror_mode": {
    "name": "ipython",
    "version": 3
   },
   "file_extension": ".py",
   "mimetype": "text/x-python",
   "name": "python",
   "nbconvert_exporter": "python",
   "pygments_lexer": "ipython3",
   "version": "3.9.12"
  }
 },
 "nbformat": 4,
 "nbformat_minor": 5
}
