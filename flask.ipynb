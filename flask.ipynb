{
 "cells": [
  {
   "cell_type": "code",
   "execution_count": 8,
   "id": "6babf8ab",
   "metadata": {},
   "outputs": [],
   "source": [
    "import pandas as pd\n",
    "import numpy as np\n",
    "# import matplotlib.pyplot as plt\n",
    "# import seaborn as sns\n",
    "# import pickle\n",
    "# from sklearn.metrics import mean_squared_error\n",
    "from flask import Flask, jsonify, request\n",
    "import joblib"
   ]
  },
  {
   "cell_type": "code",
   "execution_count": 7,
   "id": "5d6c195f",
   "metadata": {},
   "outputs": [
    {
     "name": "stdout",
     "output_type": "stream",
     "text": [
      "Collecting joblib\n",
      "  Downloading joblib-1.2.0-py3-none-any.whl (297 kB)\n",
      "     ------------------------------------ 298.0/298.0 kB 838.9 kB/s eta 0:00:00\n",
      "Installing collected packages: joblib\n",
      "Successfully installed joblib-1.2.0\n"
     ]
    }
   ],
   "source": [
    "# !pip install pandas\n",
    "# !pip install flask\n",
    "!pip install joblib"
   ]
  },
  {
   "cell_type": "code",
   "execution_count": 9,
   "id": "0e8f05cd",
   "metadata": {},
   "outputs": [],
   "source": [
    "import flask\n",
    "app = Flask(__name__)"
   ]
  },
  {
   "cell_type": "code",
   "execution_count": null,
   "id": "fe9501df",
   "metadata": {},
   "outputs": [
    {
     "name": "stdout",
     "output_type": "stream",
     "text": [
      " * Serving Flask app '__main__'\n",
      " * Debug mode: off\n"
     ]
    },
    {
     "name": "stderr",
     "output_type": "stream",
     "text": [
      "WARNING: This is a development server. Do not use it in a production deployment. Use a production WSGI server instead.\n",
      " * Running on all addresses (0.0.0.0)\n",
      " * Running on http://127.0.0.1:8080\n",
      " * Running on http://192.168.43.209:8080\n",
      "Press CTRL+C to quit\n",
      "192.168.43.209 - - [08/Dec/2022 18:38:57] \"GET / HTTP/1.1\" 200 -\n",
      "192.168.43.209 - - [08/Dec/2022 18:38:57] \"GET /favicon.ico HTTP/1.1\" 404 -\n",
      "192.168.43.209 - - [08/Dec/2022 18:39:08] \"GET /docs HTTP/1.1\" 404 -\n"
     ]
    }
   ],
   "source": [
    "@app.route('/')\n",
    "def hello_world():\n",
    "    return 'Hello World!'\n",
    "\n",
    "@app.route('/index')\n",
    "def index():\n",
    "    return flask.render_template('C:/Users/Safouane Elh/Documents/MBD S3/Deep Learning/MLOPS/index.html')\n",
    "\n",
    "@app.route('/predict', methods=['POST'])\n",
    "def predict_sales():   \n",
    "    \n",
    "    best_model = joblib.load ('C:/Users/Safouane Elh/Documents/MBD S3/Deep Learning/MLOPS/lstm_model.pkl')\n",
    "    X_test = joblib.load('C:/Users/Safouane Elh/Documents/MBD S3/Deep Learning/MLOPS/test.csv')\n",
    "    to_predict_list = request.form.to_dict()\n",
    "    try: \n",
    "        pred = best_model.predict(X_test[X_test.shop_id == int(to_predict_list['shop_id'])][X_test.item_id == int(to_predict_list['item_id'])]).clip(0,20)\n",
    "        return 'prediction : {}'.format(int(pred))\n",
    "    \n",
    "    except:\n",
    "        return \"Please enter valid shop_id/item_id\"\n",
    "        \n",
    "if __name__ == '__main__':\n",
    "    app.run(host='0.0.0.0', port=8080)"
   ]
  },
  {
   "cell_type": "code",
   "execution_count": null,
   "id": "ae662412",
   "metadata": {},
   "outputs": [],
   "source": []
  }
 ],
 "metadata": {
  "kernelspec": {
   "display_name": "Python 3 (ipykernel)",
   "language": "python",
   "name": "python3"
  },
  "language_info": {
   "codemirror_mode": {
    "name": "ipython",
    "version": 3
   },
   "file_extension": ".py",
   "mimetype": "text/x-python",
   "name": "python",
   "nbconvert_exporter": "python",
   "pygments_lexer": "ipython3",
   "version": "3.9.15"
  }
 },
 "nbformat": 4,
 "nbformat_minor": 5
}
