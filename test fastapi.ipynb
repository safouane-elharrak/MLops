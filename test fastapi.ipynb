{
 "cells": [
  {
   "cell_type": "code",
   "execution_count": 2,
   "id": "5c82c57c",
   "metadata": {},
   "outputs": [
    {
     "name": "stdout",
     "output_type": "stream",
     "text": [
      "Collecting FastAPI\n",
      "  Downloading fastapi-0.87.0-py3-none-any.whl (55 kB)\n",
      "     -------------------------------------- 55.5/55.5 kB 323.3 kB/s eta 0:00:00\n",
      "Collecting pydantic!=1.7,!=1.7.1,!=1.7.2,!=1.7.3,!=1.8,!=1.8.1,<2.0.0,>=1.6.2\n",
      "  Downloading pydantic-1.10.2-cp39-cp39-win_amd64.whl (2.1 MB)\n",
      "     ---------------------------------------- 2.1/2.1 MB 2.0 MB/s eta 0:00:00\n",
      "Collecting starlette==0.21.0\n",
      "  Downloading starlette-0.21.0-py3-none-any.whl (64 kB)\n"
     ]
    },
    {
     "name": "stderr",
     "output_type": "stream",
     "text": [
      "WARNING: Ignoring invalid distribution -illow (c:\\users\\safouane elh\\anaconda3\\lib\\site-packages)\n",
      "WARNING: Ignoring invalid distribution -illow (c:\\users\\safouane elh\\anaconda3\\lib\\site-packages)\n",
      "WARNING: Ignoring invalid distribution -illow (c:\\users\\safouane elh\\anaconda3\\lib\\site-packages)\n",
      "WARNING: Ignoring invalid distribution -illow (c:\\users\\safouane elh\\anaconda3\\lib\\site-packages)\n",
      "WARNING: Ignoring invalid distribution -illow (c:\\users\\safouane elh\\anaconda3\\lib\\site-packages)"
     ]
    },
    {
     "name": "stdout",
     "output_type": "stream",
     "text": [
      "     ---------------------------------------- 64.0/64.0 kB 1.7 MB/s eta 0:00:00\n",
      "Requirement already satisfied: anyio<5,>=3.4.0 in c:\\users\\safouane elh\\anaconda3\\lib\\site-packages (from starlette==0.21.0->FastAPI) (3.5.0)\n",
      "Requirement already satisfied: typing-extensions>=3.10.0 in c:\\users\\safouane elh\\anaconda3\\lib\\site-packages (from starlette==0.21.0->FastAPI) (4.1.1)\n",
      "Requirement already satisfied: idna>=2.8 in c:\\users\\safouane elh\\anaconda3\\lib\\site-packages (from anyio<5,>=3.4.0->starlette==0.21.0->FastAPI) (3.3)\n",
      "Requirement already satisfied: sniffio>=1.1 in c:\\users\\safouane elh\\anaconda3\\lib\\site-packages (from anyio<5,>=3.4.0->starlette==0.21.0->FastAPI) (1.2.0)\n",
      "Installing collected packages: pydantic, starlette, FastAPI\n",
      "Successfully installed FastAPI-0.87.0 pydantic-1.10.2 starlette-0.21.0\n"
     ]
    },
    {
     "name": "stderr",
     "output_type": "stream",
     "text": [
      "\n",
      "WARNING: Ignoring invalid distribution -illow (c:\\users\\safouane elh\\anaconda3\\lib\\site-packages)\n",
      "WARNING: Ignoring invalid distribution -illow (c:\\users\\safouane elh\\anaconda3\\lib\\site-packages)\n",
      "WARNING: Ignoring invalid distribution -illow (c:\\users\\safouane elh\\anaconda3\\lib\\site-packages)\n",
      "WARNING: Ignoring invalid distribution -illow (c:\\users\\safouane elh\\anaconda3\\lib\\site-packages)\n"
     ]
    }
   ],
   "source": [
    "!pip install FastAPI"
   ]
  },
  {
   "cell_type": "code",
   "execution_count": 1,
   "id": "d2b9bf4c",
   "metadata": {},
   "outputs": [],
   "source": [
    "from fastapi import FastAPI\n",
    "from pydantic import BaseModel\n",
    "import pickle\n",
    "import numpy as np\n",
    "import pandas as pd"
   ]
  },
  {
   "cell_type": "code",
   "execution_count": 2,
   "id": "12ad98c1",
   "metadata": {},
   "outputs": [],
   "source": [
    "app = FastAPI()\n",
    "class GetId(BaseModel):\n",
    "    ID: int\n"
   ]
  },
  {
   "cell_type": "code",
   "execution_count": 5,
   "id": "13f77504",
   "metadata": {},
   "outputs": [],
   "source": [
    "@app.post('/predict')\n",
    "async def predict_species(iris: GetId):\n",
    "    data = iris.dict()\n",
    "    loaded_model = pickle.load(open('C:/Users/Safouane Elh/Documents/MBD S3/Deep Learning/MLOPS/LSTM2_model.pkl', 'rb'))\n",
    "    data_in = [[data['ID']]]\n",
    "    prediction = loaded_model.predict(data_in)\n",
    "    probability = loaded_model.predict_proba(data_in).max()\n",
    "    return {\n",
    "    'prediction': prediction[1],\n",
    "    'probability': probability\n",
    "    }"
   ]
  },
  {
   "cell_type": "code",
   "execution_count": 7,
   "id": "da158124",
   "metadata": {},
   "outputs": [],
   "source": [
    "# !pip install uvicorn\n",
    "# !pip install nest_asyncio"
   ]
  },
  {
   "cell_type": "code",
   "execution_count": null,
   "id": "167290cd",
   "metadata": {},
   "outputs": [
    {
     "name": "stderr",
     "output_type": "stream",
     "text": [
      "INFO:     Started server process [3496]\n",
      "INFO:     Waiting for application startup.\n",
      "INFO:     Application startup complete.\n",
      "INFO:     Uvicorn running on http://127.0.0.1:8000 (Press CTRL+C to quit)\n"
     ]
    },
    {
     "name": "stdout",
     "output_type": "stream",
     "text": [
      "INFO:     127.0.0.1:51126 - \"GET / HTTP/1.1\" 404 Not Found\n",
      "INFO:     127.0.0.1:51126 - \"GET /favicon.ico HTTP/1.1\" 404 Not Found\n",
      "INFO:     127.0.0.1:51127 - \"GET /docs HTTP/1.1\" 200 OK\n",
      "INFO:     127.0.0.1:51127 - \"GET /openapi.json HTTP/1.1\" 200 OK\n"
     ]
    },
    {
     "name": "stderr",
     "output_type": "stream",
     "text": [
      "C:\\Users\\Safouane Elh\\anaconda3\\lib\\site-packages\\fastapi\\openapi\\utils.py:184: UserWarning: Duplicate Operation ID predict_species_predict_post for function predict_species\n",
      "  warnings.warn(message)\n"
     ]
    },
    {
     "name": "stdout",
     "output_type": "stream",
     "text": [
      "INFO:     127.0.0.1:51402 - \"POST /predict HTTP/1.1\" 500 Internal Server Error\n"
     ]
    },
    {
     "name": "stderr",
     "output_type": "stream",
     "text": [
      "ERROR:    Exception in ASGI application\n",
      "Traceback (most recent call last):\n",
      "  File \"C:\\Users\\Safouane Elh\\anaconda3\\lib\\site-packages\\uvicorn\\protocols\\http\\h11_impl.py\", line 407, in run_asgi\n",
      "    result = await app(  # type: ignore[func-returns-value]\n",
      "  File \"C:\\Users\\Safouane Elh\\anaconda3\\lib\\site-packages\\uvicorn\\middleware\\proxy_headers.py\", line 78, in __call__\n",
      "    return await self.app(scope, receive, send)\n",
      "  File \"C:\\Users\\Safouane Elh\\anaconda3\\lib\\site-packages\\fastapi\\applications.py\", line 270, in __call__\n",
      "    await super().__call__(scope, receive, send)\n",
      "  File \"C:\\Users\\Safouane Elh\\anaconda3\\lib\\site-packages\\starlette\\applications.py\", line 124, in __call__\n",
      "    await self.middleware_stack(scope, receive, send)\n",
      "  File \"C:\\Users\\Safouane Elh\\anaconda3\\lib\\site-packages\\starlette\\middleware\\errors.py\", line 184, in __call__\n",
      "    raise exc\n",
      "  File \"C:\\Users\\Safouane Elh\\anaconda3\\lib\\site-packages\\starlette\\middleware\\errors.py\", line 162, in __call__\n",
      "    await self.app(scope, receive, _send)\n",
      "  File \"C:\\Users\\Safouane Elh\\anaconda3\\lib\\site-packages\\starlette\\middleware\\exceptions.py\", line 79, in __call__\n",
      "    raise exc\n",
      "  File \"C:\\Users\\Safouane Elh\\anaconda3\\lib\\site-packages\\starlette\\middleware\\exceptions.py\", line 68, in __call__\n",
      "    await self.app(scope, receive, sender)\n",
      "  File \"C:\\Users\\Safouane Elh\\anaconda3\\lib\\site-packages\\fastapi\\middleware\\asyncexitstack.py\", line 21, in __call__\n",
      "    raise e\n",
      "  File \"C:\\Users\\Safouane Elh\\anaconda3\\lib\\site-packages\\fastapi\\middleware\\asyncexitstack.py\", line 18, in __call__\n",
      "    await self.app(scope, receive, send)\n",
      "  File \"C:\\Users\\Safouane Elh\\anaconda3\\lib\\site-packages\\starlette\\routing.py\", line 706, in __call__\n",
      "    await route.handle(scope, receive, send)\n",
      "  File \"C:\\Users\\Safouane Elh\\anaconda3\\lib\\site-packages\\starlette\\routing.py\", line 276, in handle\n",
      "    await self.app(scope, receive, send)\n",
      "  File \"C:\\Users\\Safouane Elh\\anaconda3\\lib\\site-packages\\starlette\\routing.py\", line 66, in app\n",
      "    response = await func(request)\n",
      "  File \"C:\\Users\\Safouane Elh\\anaconda3\\lib\\site-packages\\fastapi\\routing.py\", line 235, in app\n",
      "    raw_response = await run_endpoint_function(\n",
      "  File \"C:\\Users\\Safouane Elh\\anaconda3\\lib\\site-packages\\fastapi\\routing.py\", line 161, in run_endpoint_function\n",
      "    return await dependant.call(**values)\n",
      "  File \"C:\\Users\\Safouane Elh\\AppData\\Local\\Temp\\ipykernel_3496\\1928575295.py\", line 4, in predict_species\n",
      "    loaded_model = pickle.load(open('C:/Users/Safouane Elh/Documents/MBD S3/Deep Learning/MLOPS/LSTM2_model.pkl', 'rb'))\n",
      "  File \"C:\\Users\\Safouane Elh\\anaconda3\\lib\\site-packages\\keras\\saving\\pickle_utils.py\", line 47, in deserialize_model_from_bytecode\n",
      "    model = save_module.load_model(temp_dir)\n",
      "  File \"C:\\Users\\Safouane Elh\\anaconda3\\lib\\site-packages\\keras\\utils\\traceback_utils.py\", line 70, in error_handler\n",
      "    raise e.with_traceback(filtered_tb) from None\n",
      "  File \"C:\\Users\\Safouane Elh\\anaconda3\\lib\\site-packages\\tensorflow\\python\\saved_model\\load.py\", line 933, in load_partial\n",
      "    raise FileNotFoundError(\n",
      "FileNotFoundError: Unsuccessful TensorSliceReader constructor: Failed to find any matching files for ram://70cee671-9748-40e7-8abe-c4a309c9f4c2/variables/variables\n",
      " You may be trying to load on a different device from the computational device. Consider setting the `experimental_io_device` option in `tf.saved_model.LoadOptions` to the io_device such as '/job:localhost'.\n"
     ]
    },
    {
     "name": "stdout",
     "output_type": "stream",
     "text": [
      "INFO:     127.0.0.1:51826 - \"GET / HTTP/1.1\" 404 Not Found\n",
      "INFO:     127.0.0.1:51825 - \"GET /docs HTTP/1.1\" 200 OK\n",
      "INFO:     127.0.0.1:51825 - \"GET /openapi.json HTTP/1.1\" 200 OK\n",
      "INFO:     127.0.0.1:51829 - \"POST /predict HTTP/1.1\" 500 Internal Server Error\n"
     ]
    },
    {
     "name": "stderr",
     "output_type": "stream",
     "text": [
      "ERROR:    Exception in ASGI application\n",
      "Traceback (most recent call last):\n",
      "  File \"C:\\Users\\Safouane Elh\\anaconda3\\lib\\site-packages\\uvicorn\\protocols\\http\\h11_impl.py\", line 407, in run_asgi\n",
      "    result = await app(  # type: ignore[func-returns-value]\n",
      "  File \"C:\\Users\\Safouane Elh\\anaconda3\\lib\\site-packages\\uvicorn\\middleware\\proxy_headers.py\", line 78, in __call__\n",
      "    return await self.app(scope, receive, send)\n",
      "  File \"C:\\Users\\Safouane Elh\\anaconda3\\lib\\site-packages\\fastapi\\applications.py\", line 270, in __call__\n",
      "    await super().__call__(scope, receive, send)\n",
      "  File \"C:\\Users\\Safouane Elh\\anaconda3\\lib\\site-packages\\starlette\\applications.py\", line 124, in __call__\n",
      "    await self.middleware_stack(scope, receive, send)\n",
      "  File \"C:\\Users\\Safouane Elh\\anaconda3\\lib\\site-packages\\starlette\\middleware\\errors.py\", line 184, in __call__\n",
      "    raise exc\n",
      "  File \"C:\\Users\\Safouane Elh\\anaconda3\\lib\\site-packages\\starlette\\middleware\\errors.py\", line 162, in __call__\n",
      "    await self.app(scope, receive, _send)\n",
      "  File \"C:\\Users\\Safouane Elh\\anaconda3\\lib\\site-packages\\starlette\\middleware\\exceptions.py\", line 79, in __call__\n",
      "    raise exc\n",
      "  File \"C:\\Users\\Safouane Elh\\anaconda3\\lib\\site-packages\\starlette\\middleware\\exceptions.py\", line 68, in __call__\n",
      "    await self.app(scope, receive, sender)\n",
      "  File \"C:\\Users\\Safouane Elh\\anaconda3\\lib\\site-packages\\fastapi\\middleware\\asyncexitstack.py\", line 21, in __call__\n",
      "    raise e\n",
      "  File \"C:\\Users\\Safouane Elh\\anaconda3\\lib\\site-packages\\fastapi\\middleware\\asyncexitstack.py\", line 18, in __call__\n",
      "    await self.app(scope, receive, send)\n",
      "  File \"C:\\Users\\Safouane Elh\\anaconda3\\lib\\site-packages\\starlette\\routing.py\", line 706, in __call__\n",
      "    await route.handle(scope, receive, send)\n",
      "  File \"C:\\Users\\Safouane Elh\\anaconda3\\lib\\site-packages\\starlette\\routing.py\", line 276, in handle\n",
      "    await self.app(scope, receive, send)\n",
      "  File \"C:\\Users\\Safouane Elh\\anaconda3\\lib\\site-packages\\starlette\\routing.py\", line 66, in app\n",
      "    response = await func(request)\n",
      "  File \"C:\\Users\\Safouane Elh\\anaconda3\\lib\\site-packages\\fastapi\\routing.py\", line 235, in app\n",
      "    raw_response = await run_endpoint_function(\n",
      "  File \"C:\\Users\\Safouane Elh\\anaconda3\\lib\\site-packages\\fastapi\\routing.py\", line 161, in run_endpoint_function\n",
      "    return await dependant.call(**values)\n",
      "  File \"C:\\Users\\Safouane Elh\\AppData\\Local\\Temp\\ipykernel_3496\\1928575295.py\", line 4, in predict_species\n",
      "    loaded_model = pickle.load(open('C:/Users/Safouane Elh/Documents/MBD S3/Deep Learning/MLOPS/LSTM2_model.pkl', 'rb'))\n",
      "  File \"C:\\Users\\Safouane Elh\\anaconda3\\lib\\site-packages\\keras\\saving\\pickle_utils.py\", line 47, in deserialize_model_from_bytecode\n",
      "    model = save_module.load_model(temp_dir)\n",
      "  File \"C:\\Users\\Safouane Elh\\anaconda3\\lib\\site-packages\\keras\\utils\\traceback_utils.py\", line 70, in error_handler\n",
      "    raise e.with_traceback(filtered_tb) from None\n",
      "  File \"C:\\Users\\Safouane Elh\\anaconda3\\lib\\site-packages\\tensorflow\\python\\saved_model\\load.py\", line 933, in load_partial\n",
      "    raise FileNotFoundError(\n",
      "FileNotFoundError: Unsuccessful TensorSliceReader constructor: Failed to find any matching files for ram://7a2dc521-d78f-4840-9596-e3044a9be9b0/variables/variables\n",
      " You may be trying to load on a different device from the computational device. Consider setting the `experimental_io_device` option in `tf.saved_model.LoadOptions` to the io_device such as '/job:localhost'.\n"
     ]
    }
   ],
   "source": [
    "import nest_asyncio\n",
    "import uvicorn\n",
    "\n",
    "if __name__ == \"__main__\":\n",
    "    nest_asyncio.apply()\n",
    "    uvicorn.run(app)"
   ]
  },
  {
   "cell_type": "code",
   "execution_count": null,
   "id": "08a0f7f0",
   "metadata": {},
   "outputs": [],
   "source": []
  }
 ],
 "metadata": {
  "kernelspec": {
   "display_name": "Python 3 (ipykernel)",
   "language": "python",
   "name": "python3"
  },
  "language_info": {
   "codemirror_mode": {
    "name": "ipython",
    "version": 3
   },
   "file_extension": ".py",
   "mimetype": "text/x-python",
   "name": "python",
   "nbconvert_exporter": "python",
   "pygments_lexer": "ipython3",
   "version": "3.9.12"
  }
 },
 "nbformat": 4,
 "nbformat_minor": 5
}
