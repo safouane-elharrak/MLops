{
 "cells": [
  {
   "cell_type": "code",
   "execution_count": 14,
   "id": "835a1017",
   "metadata": {},
   "outputs": [
    {
     "name": "stdout",
     "output_type": "stream",
     "text": [
      "Requirement already satisfied: FastAPI in c:\\users\\safouane elh\\anaconda3\\lib\\site-packages (0.87.0)\n",
      "Requirement already satisfied: starlette==0.21.0 in c:\\users\\safouane elh\\anaconda3\\lib\\site-packages (from FastAPI) (0.21.0)\n",
      "Requirement already satisfied: pydantic!=1.7,!=1.7.1,!=1.7.2,!=1.7.3,!=1.8,!=1.8.1,<2.0.0,>=1.6.2 in c:\\users\\safouane elh\\anaconda3\\lib\\site-packages (from FastAPI) (1.10.2)\n",
      "Requirement already satisfied: anyio<5,>=3.4.0 in c:\\users\\safouane elh\\anaconda3\\lib\\site-packages (from starlette==0.21.0->FastAPI) (3.5.0)\n",
      "Requirement already satisfied: typing-extensions>=3.10.0 in c:\\users\\safouane elh\\anaconda3\\lib\\site-packages (from starlette==0.21.0->FastAPI) (4.1.1)\n",
      "Requirement already satisfied: idna>=2.8 in c:\\users\\safouane elh\\anaconda3\\lib\\site-packages (from anyio<5,>=3.4.0->starlette==0.21.0->FastAPI) (3.3)\n",
      "Requirement already satisfied: sniffio>=1.1 in c:\\users\\safouane elh\\anaconda3\\lib\\site-packages (from anyio<5,>=3.4.0->starlette==0.21.0->FastAPI) (1.2.0)\n"
     ]
    },
    {
     "name": "stderr",
     "output_type": "stream",
     "text": [
      "WARNING: Ignoring invalid distribution -illow (c:\\users\\safouane elh\\anaconda3\\lib\\site-packages)\n",
      "WARNING: Ignoring invalid distribution -illow (c:\\users\\safouane elh\\anaconda3\\lib\\site-packages)\n",
      "WARNING: Ignoring invalid distribution -illow (c:\\users\\safouane elh\\anaconda3\\lib\\site-packages)\n",
      "WARNING: Ignoring invalid distribution -illow (c:\\users\\safouane elh\\anaconda3\\lib\\site-packages)\n",
      "WARNING: Ignoring invalid distribution -illow (c:\\users\\safouane elh\\anaconda3\\lib\\site-packages)\n",
      "WARNING: Ignoring invalid distribution -illow (c:\\users\\safouane elh\\anaconda3\\lib\\site-packages)\n"
     ]
    }
   ],
   "source": [
    "!pip install FastAPI"
   ]
  },
  {
   "cell_type": "code",
   "execution_count": 15,
   "id": "17351a4d",
   "metadata": {},
   "outputs": [],
   "source": [
    "from fastapi import FastAPI\n",
    "import pickle\n",
    "import uvicorn\n",
    "import asyncio\n",
    "import numpy as np \n",
    "import pandas as pd\n",
    "from tensorflow import keras"
   ]
  },
  {
   "cell_type": "code",
   "execution_count": 16,
   "id": "60321674",
   "metadata": {},
   "outputs": [],
   "source": [
    "df_test = pd.read_csv('C:/Users/Safouane Elh/Documents/MBD S3/Deep Learning/MLOPS/test.csv')\n"
   ]
  },
  {
   "cell_type": "code",
   "execution_count": 17,
   "id": "6f5901a5",
   "metadata": {},
   "outputs": [],
   "source": [
    "app = FastAPI(debug=True)\n",
    "@app.get('/')\n",
    "def home():\n",
    "  return {'text':'welcome home'}\n"
   ]
  },
  {
   "cell_type": "code",
   "execution_count": 18,
   "id": "2956ea17",
   "metadata": {},
   "outputs": [],
   "source": [
    "@app.get('/predict')\n",
    "async def predict(Id:int):\n",
    "      loaded_model = keras.models.load_model('C:/Users/Safouane Elh/Documents/MBD S3/Deep Learning/MLOPS/LSTM_model.h5')\n",
    "  # creating submission file \n",
    "      xtest = np.load('C:/Users/Safouane Elh/Documents/MBD S3/Deep Learning/MLOPS/parrot.npy')\n",
    "      submission_file = loaded_model.predict(xtest)\n",
    "  # we will keep every value between 0 and 20\n",
    "      submission_file = submission_file.clip(0,20)\n",
    "  # creating dataframe with required columns \n",
    "      submission_trp = pd.DataFrame({'ID':df_test['ID'],'item_cnt_month':submission_file.ravel()})\n",
    "      val = submission_trp['item_cnt_month'].values[Id]\n",
    "      val = float(val)\n",
    "     # Return val as a dictionary\n",
    "      return {'number of products sold':val} \n"
   ]
  },
  {
   "cell_type": "code",
   "execution_count": 19,
   "id": "d3d5083e",
   "metadata": {},
   "outputs": [
    {
     "name": "stderr",
     "output_type": "stream",
     "text": [
      "INFO:     Started server process [16084]\n",
      "INFO:     Waiting for application startup.\n",
      "INFO:     Application startup complete.\n",
      "INFO:     Uvicorn running on http://127.0.0.1:8000 (Press CTRL+C to quit)\n"
     ]
    },
    {
     "name": "stdout",
     "output_type": "stream",
     "text": [
      "INFO:     127.0.0.1:63384 - \"GET / HTTP/1.1\" 200 OK\n",
      "INFO:     127.0.0.1:63384 - \"GET /docs HTTP/1.1\" 200 OK\n",
      "INFO:     127.0.0.1:63384 - \"GET /openapi.json HTTP/1.1\" 200 OK\n",
      "6694/6694 [==============================] - 120s 18ms/step\n",
      "INFO:     127.0.0.1:63385 - \"GET /predict?Id=5 HTTP/1.1\" 200 OK\n"
     ]
    },
    {
     "name": "stderr",
     "output_type": "stream",
     "text": [
      "INFO:     Shutting down\n",
      "INFO:     Waiting for application shutdown.\n",
      "INFO:     Application shutdown complete.\n",
      "INFO:     Finished server process [16084]\n"
     ]
    }
   ],
   "source": [
    "import nest_asyncio\n",
    "\n",
    "if __name__ == \"__main__\":\n",
    "    nest_asyncio.apply()\n",
    "    uvicorn.run(app)"
   ]
  },
  {
   "cell_type": "code",
   "execution_count": 30,
   "id": "8bb90be9",
   "metadata": {},
   "outputs": [],
   "source": [
    "@app.get('/predict')\n",
    "# def predict(Id:int):\n",
    "#     model = pd.read_csv(open(\"C:/Users/Safouane Elh/Documents/MBD S3/Deep Learning/MLOPS/submission.csv\",\"rb\"))\n",
    "#     val = model['item_cnt_month'].values[Id]\n",
    "#     return {'the number is ':val}\n",
    "# async def main(Id:int):\n",
    "#     model = pd.read_csv(open(\"C:/Users/Safouane Elh/Documents/MBD S3/Deep Learning/MLOPS/submission.csv\",\"rb\"))\n",
    "#     val = model['item_cnt_month'].values[Id]\n",
    "#     val2 = model['shop_id'].values[Id]\n",
    "#     val3 = model['item_id'].values[Id]\n",
    "#     return {'number of products sold':val,'shop_id':val2,'item_id':val3}\n",
    "    \n"
   ]
  },
  {
   "cell_type": "code",
   "execution_count": 24,
   "id": "0417a1da",
   "metadata": {},
   "outputs": [],
   "source": [
    "# model = pd.read_csv(open(\"C:/Users/Safouane Elh/Documents/MBD S3/Deep Learning/MLOPS/submission.csv\",\"rb\"))\n",
    "# val = model['item_cnt_month'].values[0]# In[ ]:\n",
    "# val2 = model['shop_id'].values[0]# In[ ]:\n",
    "# val3 = model['item_id'].values[0]# In[ ]:\n",
    "# val3"
   ]
  },
  {
   "cell_type": "code",
   "execution_count": 9,
   "id": "a9fef166",
   "metadata": {},
   "outputs": [],
   "source": [
    "# @app.get('/predict')\n",
    "# async def predict(Id:int):\n",
    "#       loaded_model = pickle.load(open('C:/Users/Safouane Elh/Documents/MBD S3/Deep Learning/MLOPS/lstm_model.pkl', 'rb'))\n",
    "#   # creating submission file \n",
    "#       xtest = np.load('C:/Users/Safouane Elh/Documents/MBD S3/Deep Learning/MLOPS/parrot.npy')\n",
    "#       submission_file = loaded_model.predict(xtest)\n",
    "#   # we will keep every value between 0 and 20\n",
    "#       submission_file = submission_file.clip(0,20)\n",
    "#   # creating dataframe with required columns \n",
    "#       submission_trp = pd.DataFrame({'ID':df_test['ID'],'item_cnt_month':submission_file.ravel()})\n",
    "#       val = submission_trp['col_name'].values[Id]\n",
    "      \n",
    "#       return {'number of products sold':val}"
   ]
  },
  {
   "cell_type": "code",
   "execution_count": 7,
   "id": "16f85bdc",
   "metadata": {},
   "outputs": [
    {
     "name": "stdout",
     "output_type": "stream",
     "text": [
      "0.4156046\n"
     ]
    }
   ],
   "source": [
    "# import pandas as pd\n",
    "# model = pd.read_csv(open(\"C:/Users/Safouane Elh/Documents/MBD S3/Deep Learning/MLOPS/submission.csv\",\"rb\"))\n",
    "# val = model['item_cnt_month'].values[0]\n",
    "# print(val)"
   ]
  },
  {
   "cell_type": "code",
   "execution_count": null,
   "id": "86069ef5",
   "metadata": {},
   "outputs": [
    {
     "name": "stderr",
     "output_type": "stream",
     "text": [
      "INFO:     Started server process [11428]\n",
      "INFO:     Waiting for application startup.\n",
      "INFO:     Application startup complete.\n",
      "INFO:     Uvicorn running on http://127.0.0.1:8000 (Press CTRL+C to quit)\n"
     ]
    },
    {
     "name": "stdout",
     "output_type": "stream",
     "text": [
      "INFO:     127.0.0.1:54439 - \"GET / HTTP/1.1\" 200 OK\n",
      "INFO:     127.0.0.1:54439 - \"GET /docs HTTP/1.1\" 200 OK\n",
      "INFO:     127.0.0.1:54439 - \"GET /openapi.json HTTP/1.1\" 200 OK\n",
      "INFO:     127.0.0.1:54440 - \"GET /predict?Id=19152 HTTP/1.1\" 200 OK\n"
     ]
    }
   ],
   "source": [
    "# import nest_asyncio\n",
    "\n",
    "# if __name__ == \"__main__\":\n",
    "#     nest_asyncio.apply()\n",
    "#     uvicorn.run(app)"
   ]
  },
  {
   "cell_type": "code",
   "execution_count": 12,
   "id": "1221a514",
   "metadata": {},
   "outputs": [
    {
     "ename": "FileNotFoundError",
     "evalue": "Unsuccessful TensorSliceReader constructor: Failed to find any matching files for ram://4b8454d0-97a9-4f3c-b0ca-957bede4dcaa/variables/variables\n You may be trying to load on a different device from the computational device. Consider setting the `experimental_io_device` option in `tf.saved_model.LoadOptions` to the io_device such as '/job:localhost'.",
     "output_type": "error",
     "traceback": [
      "\u001b[1;31m---------------------------------------------------------------------------\u001b[0m",
      "\u001b[1;31mFileNotFoundError\u001b[0m                         Traceback (most recent call last)",
      "Input \u001b[1;32mIn [12]\u001b[0m, in \u001b[0;36m<cell line: 1>\u001b[1;34m()\u001b[0m\n\u001b[1;32m----> 1\u001b[0m loaded_model \u001b[38;5;241m=\u001b[39m \u001b[43mpickle\u001b[49m\u001b[38;5;241;43m.\u001b[39;49m\u001b[43mload\u001b[49m\u001b[43m(\u001b[49m\u001b[38;5;28;43mopen\u001b[39;49m\u001b[43m(\u001b[49m\u001b[38;5;124;43m'\u001b[39;49m\u001b[38;5;124;43mC:/Users/Safouane Elh/Documents/MBD S3/Deep Learning/MLOPS/LSTM_model.pkl\u001b[39;49m\u001b[38;5;124;43m'\u001b[39;49m\u001b[43m,\u001b[49m\u001b[43m \u001b[49m\u001b[38;5;124;43m'\u001b[39;49m\u001b[38;5;124;43mrb\u001b[39;49m\u001b[38;5;124;43m'\u001b[39;49m\u001b[43m)\u001b[49m\u001b[43m)\u001b[49m\n\u001b[0;32m      2\u001b[0m   \u001b[38;5;66;03m# creating submission file \u001b[39;00m\n\u001b[0;32m      3\u001b[0m xtest \u001b[38;5;241m=\u001b[39m np\u001b[38;5;241m.\u001b[39mload(\u001b[38;5;124m'\u001b[39m\u001b[38;5;124mC:/Users/Safouane Elh/Documents/MBD S3/Deep Learning/MLOPS/parrot.npy\u001b[39m\u001b[38;5;124m'\u001b[39m)\n",
      "File \u001b[1;32m~\\anaconda3\\lib\\site-packages\\keras\\saving\\pickle_utils.py:47\u001b[0m, in \u001b[0;36mdeserialize_model_from_bytecode\u001b[1;34m(serialized_model)\u001b[0m\n\u001b[0;32m     45\u001b[0m             \u001b[38;5;28;01mwith\u001b[39;00m tf\u001b[38;5;241m.\u001b[39mio\u001b[38;5;241m.\u001b[39mgfile\u001b[38;5;241m.\u001b[39mGFile(dest_path, \u001b[38;5;124m\"\u001b[39m\u001b[38;5;124mwb\u001b[39m\u001b[38;5;124m\"\u001b[39m) \u001b[38;5;28;01mas\u001b[39;00m f:\n\u001b[0;32m     46\u001b[0m                 f\u001b[38;5;241m.\u001b[39mwrite(archive\u001b[38;5;241m.\u001b[39mextractfile(name)\u001b[38;5;241m.\u001b[39mread())\n\u001b[1;32m---> 47\u001b[0m model \u001b[38;5;241m=\u001b[39m \u001b[43msave_module\u001b[49m\u001b[38;5;241;43m.\u001b[39;49m\u001b[43mload_model\u001b[49m\u001b[43m(\u001b[49m\u001b[43mtemp_dir\u001b[49m\u001b[43m)\u001b[49m\n\u001b[0;32m     48\u001b[0m tf\u001b[38;5;241m.\u001b[39mio\u001b[38;5;241m.\u001b[39mgfile\u001b[38;5;241m.\u001b[39mrmtree(temp_dir)\n\u001b[0;32m     49\u001b[0m \u001b[38;5;28;01mreturn\u001b[39;00m model\n",
      "File \u001b[1;32m~\\anaconda3\\lib\\site-packages\\keras\\utils\\traceback_utils.py:70\u001b[0m, in \u001b[0;36mfilter_traceback.<locals>.error_handler\u001b[1;34m(*args, **kwargs)\u001b[0m\n\u001b[0;32m     67\u001b[0m     filtered_tb \u001b[38;5;241m=\u001b[39m _process_traceback_frames(e\u001b[38;5;241m.\u001b[39m__traceback__)\n\u001b[0;32m     68\u001b[0m     \u001b[38;5;66;03m# To get the full stack trace, call:\u001b[39;00m\n\u001b[0;32m     69\u001b[0m     \u001b[38;5;66;03m# `tf.debugging.disable_traceback_filtering()`\u001b[39;00m\n\u001b[1;32m---> 70\u001b[0m     \u001b[38;5;28;01mraise\u001b[39;00m e\u001b[38;5;241m.\u001b[39mwith_traceback(filtered_tb) \u001b[38;5;28;01mfrom\u001b[39;00m \u001b[38;5;28mNone\u001b[39m\n\u001b[0;32m     71\u001b[0m \u001b[38;5;28;01mfinally\u001b[39;00m:\n\u001b[0;32m     72\u001b[0m     \u001b[38;5;28;01mdel\u001b[39;00m filtered_tb\n",
      "File \u001b[1;32m~\\anaconda3\\lib\\site-packages\\tensorflow\\python\\saved_model\\load.py:933\u001b[0m, in \u001b[0;36mload_partial\u001b[1;34m(export_dir, filters, tags, options)\u001b[0m\n\u001b[0;32m    930\u001b[0m   loader \u001b[38;5;241m=\u001b[39m Loader(object_graph_proto, saved_model_proto, export_dir,\n\u001b[0;32m    931\u001b[0m                   ckpt_options, options, filters)\n\u001b[0;32m    932\u001b[0m \u001b[38;5;28;01mexcept\u001b[39;00m errors\u001b[38;5;241m.\u001b[39mNotFoundError \u001b[38;5;28;01mas\u001b[39;00m err:\n\u001b[1;32m--> 933\u001b[0m   \u001b[38;5;28;01mraise\u001b[39;00m \u001b[38;5;167;01mFileNotFoundError\u001b[39;00m(\n\u001b[0;32m    934\u001b[0m       \u001b[38;5;28mstr\u001b[39m(err) \u001b[38;5;241m+\u001b[39m \u001b[38;5;124m\"\u001b[39m\u001b[38;5;130;01m\\n\u001b[39;00m\u001b[38;5;124m You may be trying to load on a different device \u001b[39m\u001b[38;5;124m\"\u001b[39m\n\u001b[0;32m    935\u001b[0m       \u001b[38;5;124m\"\u001b[39m\u001b[38;5;124mfrom the computational device. Consider setting the \u001b[39m\u001b[38;5;124m\"\u001b[39m\n\u001b[0;32m    936\u001b[0m       \u001b[38;5;124m\"\u001b[39m\u001b[38;5;124m`experimental_io_device` option in `tf.saved_model.LoadOptions` \u001b[39m\u001b[38;5;124m\"\u001b[39m\n\u001b[0;32m    937\u001b[0m       \u001b[38;5;124m\"\u001b[39m\u001b[38;5;124mto the io_device such as \u001b[39m\u001b[38;5;124m'\u001b[39m\u001b[38;5;124m/job:localhost\u001b[39m\u001b[38;5;124m'\u001b[39m\u001b[38;5;124m.\u001b[39m\u001b[38;5;124m\"\u001b[39m)\n\u001b[0;32m    938\u001b[0m root \u001b[38;5;241m=\u001b[39m loader\u001b[38;5;241m.\u001b[39mget(\u001b[38;5;241m0\u001b[39m)\n\u001b[0;32m    939\u001b[0m root\u001b[38;5;241m.\u001b[39mgraph_debug_info \u001b[38;5;241m=\u001b[39m loader\u001b[38;5;241m.\u001b[39madjust_debug_info_func_names(debug_info)\n",
      "\u001b[1;31mFileNotFoundError\u001b[0m: Unsuccessful TensorSliceReader constructor: Failed to find any matching files for ram://4b8454d0-97a9-4f3c-b0ca-957bede4dcaa/variables/variables\n You may be trying to load on a different device from the computational device. Consider setting the `experimental_io_device` option in `tf.saved_model.LoadOptions` to the io_device such as '/job:localhost'."
     ]
    }
   ],
   "source": [
    "# loaded_model = pickle.load(open('C:/Users/Safouane Elh/Documents/MBD S3/Deep Learning/MLOPS/LSTM_model.pkl', 'rb'))\n",
    "#   # creating submission file \n",
    "# xtest = np.load('C:/Users/Safouane Elh/Documents/MBD S3/Deep Learning/MLOPS/parrot.npy')\n",
    "# submission_file = loaded_model.predict(xtest)# we will save the submission file\n",
    "#   # we will keep every value between 0 and 20\n",
    "# submission_file = submission_file.clip(0,20)\n",
    "# submission_file"
   ]
  },
  {
   "cell_type": "code",
   "execution_count": 3,
   "id": "ed68b6e6",
   "metadata": {},
   "outputs": [
    {
     "data": {
      "text/plain": [
       "array([[[0.],\n",
       "        [0.],\n",
       "        [0.],\n",
       "        ...,\n",
       "        [3.],\n",
       "        [1.],\n",
       "        [0.]],\n",
       "\n",
       "       [[0.],\n",
       "        [0.],\n",
       "        [0.],\n",
       "        ...,\n",
       "        [0.],\n",
       "        [0.],\n",
       "        [0.]],\n",
       "\n",
       "       [[0.],\n",
       "        [0.],\n",
       "        [0.],\n",
       "        ...,\n",
       "        [1.],\n",
       "        [3.],\n",
       "        [1.]],\n",
       "\n",
       "       ...,\n",
       "\n",
       "       [[0.],\n",
       "        [0.],\n",
       "        [0.],\n",
       "        ...,\n",
       "        [0.],\n",
       "        [0.],\n",
       "        [0.]],\n",
       "\n",
       "       [[0.],\n",
       "        [0.],\n",
       "        [0.],\n",
       "        ...,\n",
       "        [0.],\n",
       "        [0.],\n",
       "        [0.]],\n",
       "\n",
       "       [[0.],\n",
       "        [0.],\n",
       "        [0.],\n",
       "        ...,\n",
       "        [0.],\n",
       "        [0.],\n",
       "        [0.]]])"
      ]
     },
     "execution_count": 3,
     "metadata": {},
     "output_type": "execute_result"
    }
   ],
   "source": [
    "xtest = np.load('C:/Users/Safouane Elh/Documents/MBD S3/Deep Learning/MLOPS/parrot.npy')\n",
    "xtest"
   ]
  },
  {
   "cell_type": "code",
   "execution_count": 5,
   "id": "9751f07e",
   "metadata": {},
   "outputs": [
    {
     "ename": "FileNotFoundError",
     "evalue": "Unsuccessful TensorSliceReader constructor: Failed to find any matching files for ram://4082a1a4-4eb6-48e9-8dbd-df48376b33c7/variables/variables\n You may be trying to load on a different device from the computational device. Consider setting the `experimental_io_device` option in `tf.saved_model.LoadOptions` to the io_device such as '/job:localhost'.",
     "output_type": "error",
     "traceback": [
      "\u001b[1;31m---------------------------------------------------------------------------\u001b[0m",
      "\u001b[1;31mFileNotFoundError\u001b[0m                         Traceback (most recent call last)",
      "Input \u001b[1;32mIn [5]\u001b[0m, in \u001b[0;36m<cell line: 1>\u001b[1;34m()\u001b[0m\n\u001b[1;32m----> 1\u001b[0m loaded_model \u001b[38;5;241m=\u001b[39m \u001b[43mpickle\u001b[49m\u001b[38;5;241;43m.\u001b[39;49m\u001b[43mload\u001b[49m\u001b[43m(\u001b[49m\u001b[38;5;28;43mopen\u001b[39;49m\u001b[43m(\u001b[49m\u001b[38;5;124;43m'\u001b[39;49m\u001b[38;5;124;43mC:/Users/Safouane Elh/Documents/MBD S3/Deep Learning/MLOPS/LSTM_model.pkl\u001b[39;49m\u001b[38;5;124;43m'\u001b[39;49m\u001b[43m,\u001b[49m\u001b[43m \u001b[49m\u001b[38;5;124;43m'\u001b[39;49m\u001b[38;5;124;43mrb\u001b[39;49m\u001b[38;5;124;43m'\u001b[39;49m\u001b[43m)\u001b[49m\u001b[43m)\u001b[49m\n",
      "File \u001b[1;32m~\\anaconda3\\lib\\site-packages\\keras\\saving\\pickle_utils.py:47\u001b[0m, in \u001b[0;36mdeserialize_model_from_bytecode\u001b[1;34m(serialized_model)\u001b[0m\n\u001b[0;32m     45\u001b[0m             \u001b[38;5;28;01mwith\u001b[39;00m tf\u001b[38;5;241m.\u001b[39mio\u001b[38;5;241m.\u001b[39mgfile\u001b[38;5;241m.\u001b[39mGFile(dest_path, \u001b[38;5;124m\"\u001b[39m\u001b[38;5;124mwb\u001b[39m\u001b[38;5;124m\"\u001b[39m) \u001b[38;5;28;01mas\u001b[39;00m f:\n\u001b[0;32m     46\u001b[0m                 f\u001b[38;5;241m.\u001b[39mwrite(archive\u001b[38;5;241m.\u001b[39mextractfile(name)\u001b[38;5;241m.\u001b[39mread())\n\u001b[1;32m---> 47\u001b[0m model \u001b[38;5;241m=\u001b[39m \u001b[43msave_module\u001b[49m\u001b[38;5;241;43m.\u001b[39;49m\u001b[43mload_model\u001b[49m\u001b[43m(\u001b[49m\u001b[43mtemp_dir\u001b[49m\u001b[43m)\u001b[49m\n\u001b[0;32m     48\u001b[0m tf\u001b[38;5;241m.\u001b[39mio\u001b[38;5;241m.\u001b[39mgfile\u001b[38;5;241m.\u001b[39mrmtree(temp_dir)\n\u001b[0;32m     49\u001b[0m \u001b[38;5;28;01mreturn\u001b[39;00m model\n",
      "File \u001b[1;32m~\\anaconda3\\lib\\site-packages\\keras\\utils\\traceback_utils.py:70\u001b[0m, in \u001b[0;36mfilter_traceback.<locals>.error_handler\u001b[1;34m(*args, **kwargs)\u001b[0m\n\u001b[0;32m     67\u001b[0m     filtered_tb \u001b[38;5;241m=\u001b[39m _process_traceback_frames(e\u001b[38;5;241m.\u001b[39m__traceback__)\n\u001b[0;32m     68\u001b[0m     \u001b[38;5;66;03m# To get the full stack trace, call:\u001b[39;00m\n\u001b[0;32m     69\u001b[0m     \u001b[38;5;66;03m# `tf.debugging.disable_traceback_filtering()`\u001b[39;00m\n\u001b[1;32m---> 70\u001b[0m     \u001b[38;5;28;01mraise\u001b[39;00m e\u001b[38;5;241m.\u001b[39mwith_traceback(filtered_tb) \u001b[38;5;28;01mfrom\u001b[39;00m \u001b[38;5;28mNone\u001b[39m\n\u001b[0;32m     71\u001b[0m \u001b[38;5;28;01mfinally\u001b[39;00m:\n\u001b[0;32m     72\u001b[0m     \u001b[38;5;28;01mdel\u001b[39;00m filtered_tb\n",
      "File \u001b[1;32m~\\anaconda3\\lib\\site-packages\\tensorflow\\python\\saved_model\\load.py:933\u001b[0m, in \u001b[0;36mload_partial\u001b[1;34m(export_dir, filters, tags, options)\u001b[0m\n\u001b[0;32m    930\u001b[0m   loader \u001b[38;5;241m=\u001b[39m Loader(object_graph_proto, saved_model_proto, export_dir,\n\u001b[0;32m    931\u001b[0m                   ckpt_options, options, filters)\n\u001b[0;32m    932\u001b[0m \u001b[38;5;28;01mexcept\u001b[39;00m errors\u001b[38;5;241m.\u001b[39mNotFoundError \u001b[38;5;28;01mas\u001b[39;00m err:\n\u001b[1;32m--> 933\u001b[0m   \u001b[38;5;28;01mraise\u001b[39;00m \u001b[38;5;167;01mFileNotFoundError\u001b[39;00m(\n\u001b[0;32m    934\u001b[0m       \u001b[38;5;28mstr\u001b[39m(err) \u001b[38;5;241m+\u001b[39m \u001b[38;5;124m\"\u001b[39m\u001b[38;5;130;01m\\n\u001b[39;00m\u001b[38;5;124m You may be trying to load on a different device \u001b[39m\u001b[38;5;124m\"\u001b[39m\n\u001b[0;32m    935\u001b[0m       \u001b[38;5;124m\"\u001b[39m\u001b[38;5;124mfrom the computational device. Consider setting the \u001b[39m\u001b[38;5;124m\"\u001b[39m\n\u001b[0;32m    936\u001b[0m       \u001b[38;5;124m\"\u001b[39m\u001b[38;5;124m`experimental_io_device` option in `tf.saved_model.LoadOptions` \u001b[39m\u001b[38;5;124m\"\u001b[39m\n\u001b[0;32m    937\u001b[0m       \u001b[38;5;124m\"\u001b[39m\u001b[38;5;124mto the io_device such as \u001b[39m\u001b[38;5;124m'\u001b[39m\u001b[38;5;124m/job:localhost\u001b[39m\u001b[38;5;124m'\u001b[39m\u001b[38;5;124m.\u001b[39m\u001b[38;5;124m\"\u001b[39m)\n\u001b[0;32m    938\u001b[0m root \u001b[38;5;241m=\u001b[39m loader\u001b[38;5;241m.\u001b[39mget(\u001b[38;5;241m0\u001b[39m)\n\u001b[0;32m    939\u001b[0m root\u001b[38;5;241m.\u001b[39mgraph_debug_info \u001b[38;5;241m=\u001b[39m loader\u001b[38;5;241m.\u001b[39madjust_debug_info_func_names(debug_info)\n",
      "\u001b[1;31mFileNotFoundError\u001b[0m: Unsuccessful TensorSliceReader constructor: Failed to find any matching files for ram://4082a1a4-4eb6-48e9-8dbd-df48376b33c7/variables/variables\n You may be trying to load on a different device from the computational device. Consider setting the `experimental_io_device` option in `tf.saved_model.LoadOptions` to the io_device such as '/job:localhost'."
     ]
    }
   ],
   "source": [
    "loaded_model = pickle.load(open('C:/Users/Safouane Elh/Documents/MBD S3/Deep Learning/MLOPS/LSTM_model.pkl', 'rb'))\n"
   ]
  },
  {
   "cell_type": "code",
   "execution_count": 6,
   "id": "a8566ada",
   "metadata": {},
   "outputs": [
    {
     "ename": "SyntaxError",
     "evalue": "invalid syntax (4120617963.py, line 2)",
     "output_type": "error",
     "traceback": [
      "\u001b[1;36m  Cell \u001b[1;32mIn [6], line 2\u001b[1;36m\u001b[0m\n\u001b[1;33m    model_final{} = load_model('C:/Users/Safouane Elh/Documents/MBD S3/Deep Learning/MLOPS/LSTM_model.pkl', 'r')\u001b[0m\n\u001b[1;37m               ^\u001b[0m\n\u001b[1;31mSyntaxError\u001b[0m\u001b[1;31m:\u001b[0m invalid syntax\n"
     ]
    }
   ],
   "source": [
    "from keras.models import load_model\n",
    "model_final = load_model('C:/Users/Safouane Elh/Documents/MBD S3/Deep Learning/MLOPS/LSTM_model.pkl', 'r')"
   ]
  },
  {
   "cell_type": "code",
   "execution_count": 9,
   "id": "988ed019",
   "metadata": {},
   "outputs": [
    {
     "name": "stdout",
     "output_type": "stream",
     "text": [
      "Python 3.9.12\n"
     ]
    }
   ],
   "source": [
    "!python --version"
   ]
  },
  {
   "cell_type": "code",
   "execution_count": 11,
   "id": "06d431af",
   "metadata": {},
   "outputs": [
    {
     "name": "stdout",
     "output_type": "stream",
     "text": [
      "tensorflow==2.10.0\n",
      "tensorflow-addons==0.18.0\n",
      "tensorflow-estimator==2.10.0\n",
      "tensorflow-io-gcs-filesystem==0.27.0\n"
     ]
    },
    {
     "name": "stderr",
     "output_type": "stream",
     "text": [
      "WARNING: Ignoring invalid distribution -illow (c:\\users\\safouane elh\\anaconda3\\lib\\site-packages)\n"
     ]
    }
   ],
   "source": [
    "!pip freeze | findstr tensorflow\n"
   ]
  },
  {
   "cell_type": "code",
   "execution_count": 14,
   "id": "a73f3caa",
   "metadata": {},
   "outputs": [],
   "source": [
    "# !pip install keras"
   ]
  },
  {
   "cell_type": "code",
   "execution_count": 15,
   "id": "cc4cf920",
   "metadata": {},
   "outputs": [],
   "source": [
    "# import tensorflow as tf\n",
    "\n",
    "# model = tf.keras.models.load_model(\"C:/Users/Safouane Elh/Documents/MBD S3/Deep Learning/MLOPS/LSTM_model.h5\")"
   ]
  },
  {
   "cell_type": "code",
   "execution_count": 2,
   "id": "e45cc3c7",
   "metadata": {},
   "outputs": [
    {
     "ename": "ModuleNotFoundError",
     "evalue": "No module named 'pandas'",
     "output_type": "error",
     "traceback": [
      "\u001b[1;31m---------------------------------------------------------------------------\u001b[0m",
      "\u001b[1;31mModuleNotFoundError\u001b[0m                       Traceback (most recent call last)",
      "Cell \u001b[1;32mIn [2], line 1\u001b[0m\n\u001b[1;32m----> 1\u001b[0m \u001b[38;5;28;01mimport\u001b[39;00m \u001b[38;5;21;01mpandas\u001b[39;00m \u001b[38;5;28;01mas\u001b[39;00m \u001b[38;5;21;01mpd\u001b[39;00m\n\u001b[0;32m      2\u001b[0m pd\u001b[38;5;241m.\u001b[39mread_hdf(\u001b[38;5;124m\"\u001b[39m\u001b[38;5;124mC:/Users/Safouane Elh/Documents/MBD S3/Deep Learning/MLOPS/LSTM_model.h5\u001b[39m\u001b[38;5;124m\"\u001b[39m)\n",
      "\u001b[1;31mModuleNotFoundError\u001b[0m: No module named 'pandas'"
     ]
    }
   ],
   "source": [
    "# import pandas as pd\n",
    "# pd.read_hdf(\"C:/Users/Safouane Elh/Documents/MBD S3/Deep Learning/MLOPS/LSTM_model.h5\")"
   ]
  },
  {
   "cell_type": "code",
   "execution_count": 17,
   "id": "1035c47f",
   "metadata": {
    "scrolled": false
   },
   "outputs": [],
   "source": [
    "# import joblib\n",
    "# nationality_naive_bayes = open(\"C:/Users/Safouane Elh/Documents/MBD S3/Deep Learning/MLOPS/LSTM_model.pkl\",\"rb\")\n",
    "# nationality_cv = joblib.load(nationality_naive_bayes)\n",
    "# import pickle\n",
    "\n",
    "# # Load the saved model\n",
    "# with open('C:/Users/Safouane Elh/Documents/MBD S3/Deep Learning/MLOPS/LSTM_model.pkl', 'rb') as f:\n",
    "#     model = pickle.load(f)\n",
    "    \n",
    "# import tensorflow as tf\n",
    "\n",
    "# # Load the saved model\n",
    "# model = tf.keras.models.load_model('C:/Users/Safouane Elh/Documents/MBD S3/Deep Learning/MLOPS/LSTM_model.h5')\n",
    "\n",
    "from tensorflow import keras\n",
    "\n",
    "# Load the saved model\n",
    "model = keras.models.load_model('C:/Users/Safouane Elh/Documents/MBD S3/Deep Learning/MLOPS/LSTM_model.h5')"
   ]
  },
  {
   "cell_type": "code",
   "execution_count": 3,
   "id": "518ed426",
   "metadata": {},
   "outputs": [
    {
     "name": "stdout",
     "output_type": "stream",
     "text": [
      "Requirement already satisfied: tensorflow in c:\\users\\safouane elh\\anaconda3\\envs\\atelier2\\lib\\site-packages (2.6.0)\n",
      "Requirement already satisfied: gast==0.4.0 in c:\\users\\safouane elh\\anaconda3\\envs\\atelier2\\lib\\site-packages (from tensorflow) (0.4.0)\n",
      "Requirement already satisfied: google-pasta~=0.2 in c:\\users\\safouane elh\\anaconda3\\envs\\atelier2\\lib\\site-packages (from tensorflow) (0.2.0)\n",
      "Requirement already satisfied: opt-einsum~=3.3.0 in c:\\users\\safouane elh\\anaconda3\\envs\\atelier2\\lib\\site-packages (from tensorflow) (3.3.0)\n",
      "Requirement already satisfied: astunparse~=1.6.3 in c:\\users\\safouane elh\\anaconda3\\envs\\atelier2\\lib\\site-packages (from tensorflow) (1.6.3)\n",
      "Requirement already satisfied: h5py>=3.1.0 in c:\\users\\safouane elh\\anaconda3\\envs\\atelier2\\lib\\site-packages (from tensorflow) (3.7.0)\n",
      "Collecting absl-py~=0.10\n",
      "  Downloading absl_py-0.15.0-py3-none-any.whl (132 kB)\n",
      "     ------------------------------------ 132.0/132.0 kB 457.8 kB/s eta 0:00:00\n",
      "Collecting clang~=5.0\n",
      "  Downloading clang-5.0.tar.gz (30 kB)\n",
      "  Preparing metadata (setup.py): started\n",
      "  Preparing metadata (setup.py): finished with status 'done'\n",
      "Requirement already satisfied: wheel>=0.35 in c:\\users\\safouane elh\\anaconda3\\envs\\atelier2\\lib\\site-packages (from tensorflow) (0.35.1)\n",
      "Requirement already satisfied: keras-preprocessing>=1.1.2 in c:\\users\\safouane elh\\anaconda3\\envs\\atelier2\\lib\\site-packages (from tensorflow) (1.1.2)\n",
      "Requirement already satisfied: six>=1.15.0 in c:\\users\\safouane elh\\anaconda3\\envs\\atelier2\\lib\\site-packages (from tensorflow) (1.16.0)\n",
      "Requirement already satisfied: typing-extensions>=3.7.4 in c:\\users\\safouane elh\\anaconda3\\envs\\atelier2\\lib\\site-packages (from tensorflow) (4.3.0)\n",
      "Requirement already satisfied: wrapt>=1.11.2 in c:\\users\\safouane elh\\anaconda3\\envs\\atelier2\\lib\\site-packages (from tensorflow) (1.14.1)\n",
      "Requirement already satisfied: numpy>=1.19 in c:\\users\\safouane elh\\anaconda3\\envs\\atelier2\\lib\\site-packages (from tensorflow) (1.23.3)\n",
      "Requirement already satisfied: tensorboard~=2.6 in c:\\users\\safouane elh\\anaconda3\\envs\\atelier2\\lib\\site-packages (from tensorflow) (2.6.0)\n",
      "Requirement already satisfied: protobuf>=3.9.2 in c:\\users\\safouane elh\\anaconda3\\envs\\atelier2\\lib\\site-packages (from tensorflow) (3.17.2)\n",
      "Requirement already satisfied: grpcio<2.0,>=1.37.0 in c:\\users\\safouane elh\\anaconda3\\envs\\atelier2\\lib\\site-packages (from tensorflow) (1.42.0)\n",
      "Requirement already satisfied: termcolor>=1.1.0 in c:\\users\\safouane elh\\anaconda3\\envs\\atelier2\\lib\\site-packages (from tensorflow) (2.1.0)\n",
      "Collecting flatbuffers~=1.12\n",
      "  Downloading flatbuffers-1.12-py2.py3-none-any.whl (15 kB)\n",
      "Requirement already satisfied: keras>=2.4.0 in c:\\users\\safouane elh\\anaconda3\\envs\\atelier2\\lib\\site-packages (from tensorflow) (2.11.0)\n",
      "Requirement already satisfied: tensorflow-estimator~=2.6 in c:\\users\\safouane elh\\anaconda3\\envs\\atelier2\\lib\\site-packages (from tensorflow) (2.6.0)\n",
      "Requirement already satisfied: requests<3,>=2.21.0 in c:\\users\\safouane elh\\anaconda3\\envs\\atelier2\\lib\\site-packages (from tensorboard~=2.6->tensorflow) (2.28.1)\n",
      "Requirement already satisfied: tensorboard-data-server<0.7.0,>=0.6.0 in c:\\users\\safouane elh\\anaconda3\\envs\\atelier2\\lib\\site-packages (from tensorboard~=2.6->tensorflow) (0.6.0)\n",
      "Requirement already satisfied: tensorboard-plugin-wit>=1.6.0 in c:\\users\\safouane elh\\anaconda3\\envs\\atelier2\\lib\\site-packages (from tensorboard~=2.6->tensorflow) (1.8.1)\n",
      "Collecting google-auth<2,>=1.6.3\n",
      "  Downloading google_auth-1.35.0-py2.py3-none-any.whl (152 kB)\n",
      "     -------------------------------------- 152.9/152.9 kB 1.8 MB/s eta 0:00:00\n",
      "Requirement already satisfied: setuptools>=41.0.0 in c:\\users\\safouane elh\\anaconda3\\envs\\atelier2\\lib\\site-packages (from tensorboard~=2.6->tensorflow) (65.5.0)\n",
      "Requirement already satisfied: google-auth-oauthlib<0.5,>=0.4.1 in c:\\users\\safouane elh\\anaconda3\\envs\\atelier2\\lib\\site-packages (from tensorboard~=2.6->tensorflow) (0.4.1)\n",
      "Requirement already satisfied: werkzeug>=0.11.15 in c:\\users\\safouane elh\\anaconda3\\envs\\atelier2\\lib\\site-packages (from tensorboard~=2.6->tensorflow) (2.2.2)\n",
      "Requirement already satisfied: markdown>=2.6.8 in c:\\users\\safouane elh\\anaconda3\\envs\\atelier2\\lib\\site-packages (from tensorboard~=2.6->tensorflow) (3.3.4)\n",
      "Requirement already satisfied: rsa<5,>=3.1.4 in c:\\users\\safouane elh\\anaconda3\\envs\\atelier2\\lib\\site-packages (from google-auth<2,>=1.6.3->tensorboard~=2.6->tensorflow) (4.7.2)\n",
      "Requirement already satisfied: pyasn1-modules>=0.2.1 in c:\\users\\safouane elh\\anaconda3\\envs\\atelier2\\lib\\site-packages (from google-auth<2,>=1.6.3->tensorboard~=2.6->tensorflow) (0.2.8)\n",
      "Requirement already satisfied: cachetools<5.0,>=2.0.0 in c:\\users\\safouane elh\\anaconda3\\envs\\atelier2\\lib\\site-packages (from google-auth<2,>=1.6.3->tensorboard~=2.6->tensorflow) (4.2.2)\n",
      "Requirement already satisfied: requests-oauthlib>=0.7.0 in c:\\users\\safouane elh\\anaconda3\\envs\\atelier2\\lib\\site-packages (from google-auth-oauthlib<0.5,>=0.4.1->tensorboard~=2.6->tensorflow) (1.3.0)\n",
      "Requirement already satisfied: charset-normalizer<3,>=2 in c:\\users\\safouane elh\\anaconda3\\envs\\atelier2\\lib\\site-packages (from requests<3,>=2.21.0->tensorboard~=2.6->tensorflow) (2.0.4)\n",
      "Requirement already satisfied: idna<4,>=2.5 in c:\\users\\safouane elh\\anaconda3\\envs\\atelier2\\lib\\site-packages (from requests<3,>=2.21.0->tensorboard~=2.6->tensorflow) (3.4)\n",
      "Requirement already satisfied: urllib3<1.27,>=1.21.1 in c:\\users\\safouane elh\\anaconda3\\envs\\atelier2\\lib\\site-packages (from requests<3,>=2.21.0->tensorboard~=2.6->tensorflow) (1.26.12)\n",
      "Requirement already satisfied: certifi>=2017.4.17 in c:\\users\\safouane elh\\anaconda3\\envs\\atelier2\\lib\\site-packages (from requests<3,>=2.21.0->tensorboard~=2.6->tensorflow) (2022.9.24)\n",
      "Requirement already satisfied: MarkupSafe>=2.1.1 in c:\\users\\safouane elh\\anaconda3\\envs\\atelier2\\lib\\site-packages (from werkzeug>=0.11.15->tensorboard~=2.6->tensorflow) (2.1.1)\n",
      "Requirement already satisfied: pyasn1<0.5.0,>=0.4.6 in c:\\users\\safouane elh\\anaconda3\\envs\\atelier2\\lib\\site-packages (from pyasn1-modules>=0.2.1->google-auth<2,>=1.6.3->tensorboard~=2.6->tensorflow) (0.4.8)\n",
      "Requirement already satisfied: oauthlib>=3.0.0 in c:\\users\\safouane elh\\anaconda3\\envs\\atelier2\\lib\\site-packages (from requests-oauthlib>=0.7.0->google-auth-oauthlib<0.5,>=0.4.1->tensorboard~=2.6->tensorflow) (3.2.1)\n",
      "Building wheels for collected packages: clang\n",
      "  Building wheel for clang (setup.py): started\n",
      "  Building wheel for clang (setup.py): finished with status 'done'\n",
      "  Created wheel for clang: filename=clang-5.0-py3-none-any.whl size=30686 sha256=0c418ca4091eef81e429dba43dabff840047980c0177b43f78f99a0ee195795f\n",
      "  Stored in directory: C:\\Users\\Safouane Elh\\AppData\\Local\\Temp\\pip-ephem-wheel-cache-3hpbqtn0\\wheels\\3a\\ce\\7a\\27094f689461801c934296d07078773603663dfcaca63bb064\n",
      "Successfully built clang\n",
      "Installing collected packages: flatbuffers, clang, absl-py, google-auth\n",
      "  Attempting uninstall: flatbuffers\n",
      "    Found existing installation: flatbuffers 20210226132247\n",
      "    Uninstalling flatbuffers-20210226132247:\n",
      "      Successfully uninstalled flatbuffers-20210226132247\n",
      "  Attempting uninstall: absl-py\n",
      "    Found existing installation: absl-py 1.3.0\n",
      "    Uninstalling absl-py-1.3.0:\n",
      "      Successfully uninstalled absl-py-1.3.0\n",
      "  Attempting uninstall: google-auth\n",
      "    Found existing installation: google-auth 2.6.0\n",
      "    Uninstalling google-auth-2.6.0:\n",
      "      Successfully uninstalled google-auth-2.6.0\n",
      "Successfully installed absl-py-0.15.0 clang-5.0 flatbuffers-1.12 google-auth-1.35.0\n"
     ]
    }
   ],
   "source": [
    "# !pip install --disable-pip-version-check --no-cache-dir tensorflow\n"
   ]
  },
  {
   "cell_type": "code",
   "execution_count": null,
   "id": "b15252dc",
   "metadata": {},
   "outputs": [],
   "source": [
    "# !pip3 uninstall tensorflow absl-py astunparse flatbuffers gast google-pasta grpcio h5py keras keras-preprocessing libclang numpy opt-einsum protobuf setuptools six tensorboard tensorflow-io-gcs-filesystem termcolor tf-estimator-nightly typing-extensions wrapt\n"
   ]
  },
  {
   "cell_type": "code",
   "execution_count": null,
   "id": "9ba3efe9",
   "metadata": {},
   "outputs": [],
   "source": [
    "# !pip3 install --disable-pip-version-check --no-cache-dir tensorflow\n"
   ]
  },
  {
   "cell_type": "code",
   "execution_count": 7,
   "id": "ab357cea",
   "metadata": {},
   "outputs": [
    {
     "name": "stdout",
     "output_type": "stream",
     "text": [
      "6694/6694 [==============================] - 118s 17ms/step\n",
      "0.42147055\n"
     ]
    }
   ],
   "source": [
    "loaded_model = keras.models.load_model('C:/Users/Safouane Elh/Documents/MBD S3/Deep Learning/MLOPS/LSTM_model.h5')\n",
    "  # creating submission file \n",
    "xtest = np.load('C:/Users/Safouane Elh/Documents/MBD S3/Deep Learning/MLOPS/parrot.npy')\n",
    "submission_file = loaded_model.predict(xtest)\n",
    "  # we will keep every value between 0 and 20\n",
    "submission_file = submission_file.clip(0,20)\n",
    "  # creating dataframe with required columns \n",
    "submission_trp = pd.DataFrame({'ID':df_test['ID'],'item_cnt_month':submission_file.ravel()})\n",
    "val = submission_trp['item_cnt_month'].values[5]\n",
    "     # Return val as a dictionary\n",
    "print(val)"
   ]
  },
  {
   "cell_type": "code",
   "execution_count": 7,
   "id": "39f61057",
   "metadata": {},
   "outputs": [],
   "source": [
    "def predict(Id:int):\n",
    "      loaded_model = keras.models.load_model('C:/Users/Safouane Elh/Documents/MBD S3/Deep Learning/MLOPS/LSTM_model.h5')\n",
    "  # creating submission file \n",
    "      xtest = np.load('C:/Users/Safouane Elh/Documents/MBD S3/Deep Learning/MLOPS/parrot.npy')\n",
    "      submission_file = loaded_model.predict(xtest)\n",
    "  # we will keep every value between 0 and 20\n",
    "      submission_file = submission_file.clip(0,20)\n",
    "  # creating dataframe with required columns \n",
    "      submission_trp = pd.DataFrame({'ID':df_test['ID'],'item_cnt_month':submission_file.ravel()})\n",
    "      val = submission_trp['item_cnt_month'].values[Id]\n",
    "#       val = float(val)\n",
    "     # Return val as a dictionary\n",
    "      return val  "
   ]
  },
  {
   "cell_type": "code",
   "execution_count": 8,
   "id": "5653ee80",
   "metadata": {},
   "outputs": [
    {
     "name": "stdout",
     "output_type": "stream",
     "text": [
      "6694/6694 [==============================] - 114s 17ms/step\n",
      "0.42147055\n"
     ]
    }
   ],
   "source": [
    "print(predict(5))"
   ]
  },
  {
   "cell_type": "code",
   "execution_count": null,
   "id": "496180d0",
   "metadata": {},
   "outputs": [],
   "source": []
  }
 ],
 "metadata": {
  "kernelspec": {
   "display_name": "Python 3 (ipykernel)",
   "language": "python",
   "name": "python3"
  },
  "language_info": {
   "codemirror_mode": {
    "name": "ipython",
    "version": 3
   },
   "file_extension": ".py",
   "mimetype": "text/x-python",
   "name": "python",
   "nbconvert_exporter": "python",
   "pygments_lexer": "ipython3",
   "version": "3.9.12"
  }
 },
 "nbformat": 4,
 "nbformat_minor": 5
}
